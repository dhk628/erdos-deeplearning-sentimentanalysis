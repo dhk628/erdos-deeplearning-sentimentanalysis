{
    "cells": [
        {
            "cell_type": "markdown",
            "metadata": {
                "id": "iWpgGTm-VyV6"
            },
            "source": [
                "# Embedding SST-5\n",
                "\n",
                "We will encode SST-5 data using some top MTEB leaderboard embedding models."
            ]
        },
        {
            "cell_type": "markdown",
            "metadata": {
                "id": "x-nUepbaWPea"
            },
            "source": [
                "## Loading packages and data"
            ]
        },
        {
            "cell_type": "code",
            "execution_count": 1,
            "metadata": {
                "executionInfo": {
                    "elapsed": 917,
                    "status": "ok",
                    "timestamp": 1723055661473,
                    "user": {
                        "displayName": "Vinicius Ambrosi",
                        "userId": "10463583965321838737"
                    },
                    "user_tz": 420
                },
                "id": "7-IUWuu9WlMX"
            },
            "outputs": [],
            "source": [
                "import pandas as pd\n",
                "import numpy as np"
            ]
        },
        {
            "cell_type": "code",
            "execution_count": 5,
            "metadata": {
                "executionInfo": {
                    "elapsed": 11442,
                    "status": "ok",
                    "timestamp": 1723055674859,
                    "user": {
                        "displayName": "Vinicius Ambrosi",
                        "userId": "10463583965321838737"
                    },
                    "user_tz": 420
                },
                "id": "VuzsDlkaW5NW"
            },
            "outputs": [],
            "source": [
                "df_train = pd.read_parquet(\"SST-5_train.parquet\")\n",
                "df_validation = pd.read_parquet(\"SST-5_validation.parquet\")\n",
                "df_test = pd.read_parquet(\"SST-5_test.parquet\")"
            ]
        },
        {
            "cell_type": "code",
            "execution_count": null,
            "metadata": {
                "id": "XOO25FJiVusr"
            },
            "outputs": [],
            "source": [
                "%pip install sentence-transformers"
            ]
        },
        {
            "cell_type": "code",
            "execution_count": null,
            "metadata": {
                "id": "UqsYkf9XWYa_"
            },
            "outputs": [],
            "source": [
                "from sentence_transformers import SentenceTransformer"
            ]
        },
        {
            "cell_type": "code",
            "execution_count": 8,
            "metadata": {
                "executionInfo": {
                    "elapsed": 6,
                    "status": "ok",
                    "timestamp": 1723055735308,
                    "user": {
                        "displayName": "Vinicius Ambrosi",
                        "userId": "10463583965321838737"
                    },
                    "user_tz": 420
                },
                "id": "cLoMohleeiCv"
            },
            "outputs": [],
            "source": [
                "def save_embeddings(model, name, df, df_type):\n",
                "    embeddings = model.encode(df[\"text\"])\n",
                "    np.save(f\"./embeddings/{name}_{df_type}.npy\", embeddings)"
            ]
        },
        {
            "cell_type": "markdown",
            "metadata": {
                "id": "DOyJTuOdYbSg"
            },
            "source": [
                "## dunzhang/stella_en_1.5B_v5"
            ]
        },
        {
            "cell_type": "code",
            "execution_count": null,
            "metadata": {
                "id": "9foNAWcAY6v1"
            },
            "outputs": [],
            "source": [
                "%pip install flash_attn"
            ]
        },
        {
            "cell_type": "code",
            "execution_count": null,
            "metadata": {
                "id": "YSYTI1vAYorI"
            },
            "outputs": [],
            "source": [
                "model = SentenceTransformer(\"infgrad/stella_en_1.5B_v5\", trust_remote_code=True).cuda()"
            ]
        },
        {
            "cell_type": "code",
            "execution_count": null,
            "metadata": {
                "id": "dBdmqGClfVgo"
            },
            "outputs": [],
            "source": [
                "# 2 min -- L4 Google Colab\n",
                "model_name = \"stella_en_400M_v5\"\n",
                "save_embeddings(model, model_name, df_train, \"train\")\n",
                "save_embeddings(model, model_name, df_validation, \"validation\")\n",
                "save_embeddings(model, model_name, df_test, \"test\")"
            ]
        },
        {
            "cell_type": "markdown",
            "metadata": {
                "id": "4lZSLv9gaq1d"
            },
            "source": [
                "## dunzhang/stella_en_400M_v5"
            ]
        },
        {
            "cell_type": "code",
            "execution_count": null,
            "metadata": {
                "id": "kvxwKcIsjXwy"
            },
            "outputs": [],
            "source": [
                "%pip install xformers"
            ]
        },
        {
            "cell_type": "code",
            "execution_count": null,
            "metadata": {
                "id": "tZYZtejfawxy"
            },
            "outputs": [],
            "source": [
                "model = SentenceTransformer(\"infgrad/stella_en_400M_v5\", trust_remote_code=True).cuda()"
            ]
        },
        {
            "cell_type": "code",
            "execution_count": null,
            "metadata": {
                "id": "qP47gCZxhypb"
            },
            "outputs": [],
            "source": [
                "# 34s -- L4 Google Colab\n",
                "model_name = \"stella_en_400M_v5\"\n",
                "save_embeddings(model, model_name, df_train, \"train\")\n",
                "save_embeddings(model, model_name, df_validation, \"validation\")\n",
                "save_embeddings(model, model_name, df_test, \"test\")"
            ]
        },
        {
            "cell_type": "markdown",
            "metadata": {
                "id": "BlhGom_Cm_O9"
            },
            "source": [
                "## Alibaba-NLP/gte-Qwen2-1.5B-instruct"
            ]
        },
        {
            "cell_type": "code",
            "execution_count": null,
            "metadata": {
                "id": "FfSOsxBDnIHe"
            },
            "outputs": [],
            "source": [
                "%pip install flash_attn"
            ]
        },
        {
            "cell_type": "code",
            "execution_count": null,
            "metadata": {
                "id": "DX4TPhCrm32d"
            },
            "outputs": [],
            "source": [
                "model = SentenceTransformer(\n",
                "    \"Alibaba-NLP/gte-Qwen2-1.5B-instruct\", trust_remote_code=True\n",
                ").cuda()"
            ]
        },
        {
            "cell_type": "code",
            "execution_count": null,
            "metadata": {
                "id": "pmWBqdB_m-S5"
            },
            "outputs": [],
            "source": [
                "# 2 min -- L4 Google Colab\n",
                "model_name = \"gte-Qwen2-1.5B-instruct\"\n",
                "save_embeddings(model, model_name, df_train, \"train\")\n",
                "save_embeddings(model, model_name, df_validation, \"validation\")\n",
                "save_embeddings(model, model_name, df_test, \"test\")"
            ]
        },
        {
            "cell_type": "markdown",
            "metadata": {
                "id": "vCjKVqWdHVHG"
            },
            "source": [
                "## Alibaba-NLP/gte-Qwen2-7B-instruct"
            ]
        },
        {
            "cell_type": "code",
            "execution_count": null,
            "metadata": {
                "id": "u_6GCHBVH92F"
            },
            "outputs": [],
            "source": [
                "%pip install flash_attn"
            ]
        },
        {
            "cell_type": "code",
            "execution_count": null,
            "metadata": {
                "id": "q39x8iwHHWMJ"
            },
            "outputs": [],
            "source": [
                "model = SentenceTransformer(\n",
                "    \"Alibaba-NLP/gte-Qwen2-7B-instruct\", trust_remote_code=True\n",
                ").cuda()"
            ]
        },
        {
            "cell_type": "code",
            "execution_count": 12,
            "metadata": {
                "executionInfo": {
                    "elapsed": 269876,
                    "status": "ok",
                    "timestamp": 1723056789543,
                    "user": {
                        "displayName": "Vinicius Ambrosi",
                        "userId": "10463583965321838737"
                    },
                    "user_tz": 420
                },
                "id": "aplSpWyAIFg-"
            },
            "outputs": [],
            "source": [
                "model_name = \"gte-Qwen2-7B-instruct\"\n",
                "save_embeddings(model, model_name, df_train, \"train\")\n",
                "save_embeddings(model, model_name, df_validation, \"validation\")\n",
                "save_embeddings(model, model_name, df_test, \"test\")"
            ]
        }
    ],
    "metadata": {
        "accelerator": "GPU",
        "colab": {
            "authorship_tag": "ABX9TyNa6l4MEHRdvUJfGzjGuuak",
            "gpuType": "A100",
            "provenance": []
        },
        "kernelspec": {
            "display_name": "Python 3",
            "name": "python3"
        },
        "language_info": {
            "codemirror_mode": {
                "name": "ipython",
                "version": 3
            },
            "file_extension": ".py",
            "mimetype": "text/x-python",
            "name": "python",
            "nbconvert_exporter": "python",
            "pygments_lexer": "ipython3",
            "version": "3.11.9"
        }
    },
    "nbformat": 4,
    "nbformat_minor": 0
}