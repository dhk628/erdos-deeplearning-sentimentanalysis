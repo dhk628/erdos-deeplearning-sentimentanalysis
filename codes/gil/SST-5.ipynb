{
 "cells": [
  {
   "cell_type": "code",
   "execution_count": 55,
   "metadata": {},
   "outputs": [],
   "source": [
    "import pytreebank\n",
    "import sys\n",
    "import os\n",
    "\n",
    "dataset = pytreebank.load_sst()"
   ]
  },
  {
   "cell_type": "code",
   "execution_count": 56,
   "metadata": {},
   "outputs": [
    {
     "name": "stdout",
     "output_type": "stream",
     "text": [
      "(3 (2 (2 The) (2 Rock) )(4 (3 (2 is) (4 (2 destined) (2 (2 (2 (2 (2 to) (2 (2 be) (2 (2 the) (2 (2 21st) (2 (2 (2 Century) (2 's) )(2 (3 new) (2 (2 ``) (2 Conan) )))))))(2 '') )(2 and) )(3 (2 that) (3 (2 he) (3 (2 's) (3 (2 going) (3 (2 to) (4 (3 (2 make) (3 (3 (2 a) (3 splash) )(2 (2 even) (3 greater) )))(2 (2 than) (2 (2 (2 (2 (1 (2 Arnold) (2 Schwarzenegger) )(2 ,) )(2 (2 Jean-Claud) (2 (2 Van) (2 Damme) )))(2 or) )(2 (2 Steven) (2 Segal) ))))))))))))(2 .) ))\n"
     ]
    }
   ],
   "source": [
    "print(dataset['train'][0])"
   ]
  },
  {
   "cell_type": "code",
   "execution_count": 57,
   "metadata": {},
   "outputs": [],
   "source": [
    "out_path = os.path.join('sst_{}.txt')"
   ]
  },
  {
   "cell_type": "code",
   "execution_count": 58,
   "metadata": {},
   "outputs": [
    {
     "name": "stdout",
     "output_type": "stream",
     "text": [
      "8544\n"
     ]
    }
   ],
   "source": [
    "for category in ['train', 'test', 'dev']:\n",
    "    with open(out_path.format(category), 'w+') as outfile:\n",
    "        for item in dataset[category]:\n",
    "            outfile.write(\"__label__{}\\t{}\\n\".format(\n",
    "                item.to_labeled_lines()[0][0] + 1,\n",
    "                item.to_labeled_lines()[0][1]\n",
    "            ))\n",
    "# Print the length of the training set\n",
    "print(len(dataset['train']))"
   ]
  },
  {
   "cell_type": "code",
   "execution_count": 1,
   "metadata": {},
   "outputs": [],
   "source": [
    "import pandas as pd\n",
    "from tqdm import tqdm\n",
    "from tqdm import trange"
   ]
  },
  {
   "cell_type": "code",
   "execution_count": 2,
   "metadata": {},
   "outputs": [
    {
     "data": {
      "text/html": [
       "<div>\n",
       "<style scoped>\n",
       "    .dataframe tbody tr th:only-of-type {\n",
       "        vertical-align: middle;\n",
       "    }\n",
       "\n",
       "    .dataframe tbody tr th {\n",
       "        vertical-align: top;\n",
       "    }\n",
       "\n",
       "    .dataframe thead th {\n",
       "        text-align: right;\n",
       "    }\n",
       "</style>\n",
       "<table border=\"1\" class=\"dataframe\">\n",
       "  <thead>\n",
       "    <tr style=\"text-align: right;\">\n",
       "      <th></th>\n",
       "      <th>label</th>\n",
       "      <th>text</th>\n",
       "      <th>vector</th>\n",
       "    </tr>\n",
       "  </thead>\n",
       "  <tbody>\n",
       "    <tr>\n",
       "      <th>0</th>\n",
       "      <td>4</td>\n",
       "      <td>The Rock is destined to be the 21st Century 's...</td>\n",
       "      <td>[0.025059903040528297, -0.0033508273772895336,...</td>\n",
       "    </tr>\n",
       "    <tr>\n",
       "      <th>1</th>\n",
       "      <td>5</td>\n",
       "      <td>The gorgeously elaborate continuation of `` Th...</td>\n",
       "      <td>[-0.010023828595876694, -0.022591764107346535,...</td>\n",
       "    </tr>\n",
       "    <tr>\n",
       "      <th>2</th>\n",
       "      <td>4</td>\n",
       "      <td>Singer/composer Bryan Adams contributes a slew...</td>\n",
       "      <td>[0.021090717986226082, 0.01804506592452526, -0...</td>\n",
       "    </tr>\n",
       "    <tr>\n",
       "      <th>3</th>\n",
       "      <td>3</td>\n",
       "      <td>You 'd think by now America would have had eno...</td>\n",
       "      <td>[0.03466595709323883, -0.028959855437278748, -...</td>\n",
       "    </tr>\n",
       "    <tr>\n",
       "      <th>4</th>\n",
       "      <td>4</td>\n",
       "      <td>Yet the act is still charming here .</td>\n",
       "      <td>[-0.019601160660386086, -0.04158126562833786, ...</td>\n",
       "    </tr>\n",
       "    <tr>\n",
       "      <th>...</th>\n",
       "      <td>...</td>\n",
       "      <td>...</td>\n",
       "      <td>...</td>\n",
       "    </tr>\n",
       "    <tr>\n",
       "      <th>8539</th>\n",
       "      <td>1</td>\n",
       "      <td>A real snooze .</td>\n",
       "      <td>[0.028580080717802048, 0.020179858431220055, 0...</td>\n",
       "    </tr>\n",
       "    <tr>\n",
       "      <th>8540</th>\n",
       "      <td>2</td>\n",
       "      <td>No surprises .</td>\n",
       "      <td>[-0.04816627874970436, 0.007212366443127394, 0...</td>\n",
       "    </tr>\n",
       "    <tr>\n",
       "      <th>8541</th>\n",
       "      <td>4</td>\n",
       "      <td>We 've seen the hippie-turned-yuppie plot befo...</td>\n",
       "      <td>[0.023906568065285683, 0.00044874087325297296,...</td>\n",
       "    </tr>\n",
       "    <tr>\n",
       "      <th>8542</th>\n",
       "      <td>1</td>\n",
       "      <td>Her fans walked out muttering words like `` ho...</td>\n",
       "      <td>[-0.011076121591031551, -0.011684155091643333,...</td>\n",
       "    </tr>\n",
       "    <tr>\n",
       "      <th>8543</th>\n",
       "      <td>2</td>\n",
       "      <td>In this case zero .</td>\n",
       "      <td>[-0.05022260546684265, -0.0014309081016108394,...</td>\n",
       "    </tr>\n",
       "  </tbody>\n",
       "</table>\n",
       "<p>8544 rows × 3 columns</p>\n",
       "</div>"
      ],
      "text/plain": [
       "      label                                               text  \\\n",
       "0         4  The Rock is destined to be the 21st Century 's...   \n",
       "1         5  The gorgeously elaborate continuation of `` Th...   \n",
       "2         4  Singer/composer Bryan Adams contributes a slew...   \n",
       "3         3  You 'd think by now America would have had eno...   \n",
       "4         4               Yet the act is still charming here .   \n",
       "...     ...                                                ...   \n",
       "8539      1                                    A real snooze .   \n",
       "8540      2                                     No surprises .   \n",
       "8541      4  We 've seen the hippie-turned-yuppie plot befo...   \n",
       "8542      1  Her fans walked out muttering words like `` ho...   \n",
       "8543      2                                In this case zero .   \n",
       "\n",
       "                                                 vector  \n",
       "0     [0.025059903040528297, -0.0033508273772895336,...  \n",
       "1     [-0.010023828595876694, -0.022591764107346535,...  \n",
       "2     [0.021090717986226082, 0.01804506592452526, -0...  \n",
       "3     [0.03466595709323883, -0.028959855437278748, -...  \n",
       "4     [-0.019601160660386086, -0.04158126562833786, ...  \n",
       "...                                                 ...  \n",
       "8539  [0.028580080717802048, 0.020179858431220055, 0...  \n",
       "8540  [-0.04816627874970436, 0.007212366443127394, 0...  \n",
       "8541  [0.023906568065285683, 0.00044874087325297296,...  \n",
       "8542  [-0.011076121591031551, -0.011684155091643333,...  \n",
       "8543  [-0.05022260546684265, -0.0014309081016108394,...  \n",
       "\n",
       "[8544 rows x 3 columns]"
      ]
     },
     "execution_count": 2,
     "metadata": {},
     "output_type": "execute_result"
    }
   ],
   "source": [
    "df_train = pd.read_parquet(\"SST-5_train_august10.parquet\")\n",
    "df_val = pd.read_parquet(\"SST-5_validation_august10.parquet\")\n",
    "df_test = pd.read_parquet(\"SST-5_test_august10.parquet\")\n",
    "df_train"
   ]
  },
  {
   "cell_type": "code",
   "execution_count": 3,
   "metadata": {},
   "outputs": [
    {
     "name": "stderr",
     "output_type": "stream",
     "text": [
      "C:\\Users\\Gil\\AppData\\Roaming\\Python\\Python312\\site-packages\\sentence_transformers\\cross_encoder\\CrossEncoder.py:11: TqdmExperimentalWarning: Using `tqdm.autonotebook.tqdm` in notebook mode. Use `tqdm.tqdm` instead to force console mode (e.g. in jupyter console)\n",
      "  from tqdm.autonotebook import tqdm, trange\n"
     ]
    }
   ],
   "source": [
    "from sentence_transformers import SentenceTransformer"
   ]
  },
  {
   "cell_type": "code",
   "execution_count": 4,
   "metadata": {},
   "outputs": [],
   "source": [
    "# Loading pretrained GTE model for generating sentence embeddings\n",
    "sentence_model = SentenceTransformer('fine_tuned_gte_august11')\n",
    "\n",
    "# function that vectorizes a sentence\n",
    "def get_sentence_embedding(text):\n",
    "    if not text.strip(): \n",
    "    #.strip() gets rid of new lines\n",
    "        print(\"Attempted to get embedding for empty text.\")\n",
    "        return []\n",
    "\n",
    "    embedding = sentence_model.encode(text)\n",
    "\n",
    "    return embedding.tolist()"
   ]
  },
  {
   "cell_type": "code",
   "execution_count": 7,
   "metadata": {},
   "outputs": [],
   "source": [
    "tqdm.pandas()"
   ]
  },
  {
   "cell_type": "code",
   "execution_count": 8,
   "metadata": {},
   "outputs": [
    {
     "name": "stderr",
     "output_type": "stream",
     "text": [
      "100%|██████████| 8544/8544 [03:09<00:00, 45.09it/s]\n"
     ]
    }
   ],
   "source": [
    "df_train['vector'] = df_train['text'].progress_apply(get_sentence_embedding)\n",
    "\n",
    "# replacing the old vectors with vectors that uses new fine tuned transformer model"
   ]
  },
  {
   "cell_type": "code",
   "execution_count": 9,
   "metadata": {},
   "outputs": [
    {
     "data": {
      "text/html": [
       "<div>\n",
       "<style scoped>\n",
       "    .dataframe tbody tr th:only-of-type {\n",
       "        vertical-align: middle;\n",
       "    }\n",
       "\n",
       "    .dataframe tbody tr th {\n",
       "        vertical-align: top;\n",
       "    }\n",
       "\n",
       "    .dataframe thead th {\n",
       "        text-align: right;\n",
       "    }\n",
       "</style>\n",
       "<table border=\"1\" class=\"dataframe\">\n",
       "  <thead>\n",
       "    <tr style=\"text-align: right;\">\n",
       "      <th></th>\n",
       "      <th>label</th>\n",
       "      <th>text</th>\n",
       "      <th>vector</th>\n",
       "    </tr>\n",
       "  </thead>\n",
       "  <tbody>\n",
       "    <tr>\n",
       "      <th>0</th>\n",
       "      <td>4</td>\n",
       "      <td>The Rock is destined to be the 21st Century 's...</td>\n",
       "      <td>[-0.0078018708154559135, -0.003602320328354835...</td>\n",
       "    </tr>\n",
       "    <tr>\n",
       "      <th>1</th>\n",
       "      <td>5</td>\n",
       "      <td>The gorgeously elaborate continuation of `` Th...</td>\n",
       "      <td>[-0.03825657069683075, -0.031692925840616226, ...</td>\n",
       "    </tr>\n",
       "    <tr>\n",
       "      <th>2</th>\n",
       "      <td>4</td>\n",
       "      <td>Singer/composer Bryan Adams contributes a slew...</td>\n",
       "      <td>[-0.011609816923737526, -0.006086165085434914,...</td>\n",
       "    </tr>\n",
       "    <tr>\n",
       "      <th>3</th>\n",
       "      <td>3</td>\n",
       "      <td>You 'd think by now America would have had eno...</td>\n",
       "      <td>[-0.020963657647371292, -0.028181064873933792,...</td>\n",
       "    </tr>\n",
       "    <tr>\n",
       "      <th>4</th>\n",
       "      <td>4</td>\n",
       "      <td>Yet the act is still charming here .</td>\n",
       "      <td>[-0.045816730707883835, -0.03720678389072418, ...</td>\n",
       "    </tr>\n",
       "    <tr>\n",
       "      <th>...</th>\n",
       "      <td>...</td>\n",
       "      <td>...</td>\n",
       "      <td>...</td>\n",
       "    </tr>\n",
       "    <tr>\n",
       "      <th>8539</th>\n",
       "      <td>1</td>\n",
       "      <td>A real snooze .</td>\n",
       "      <td>[0.024768028408288956, 0.01059210579842329, -0...</td>\n",
       "    </tr>\n",
       "    <tr>\n",
       "      <th>8540</th>\n",
       "      <td>2</td>\n",
       "      <td>No surprises .</td>\n",
       "      <td>[-0.021302705630660057, -0.0071574123576283455...</td>\n",
       "    </tr>\n",
       "    <tr>\n",
       "      <th>8541</th>\n",
       "      <td>4</td>\n",
       "      <td>We 've seen the hippie-turned-yuppie plot befo...</td>\n",
       "      <td>[-0.018229257315397263, -0.009151657111942768,...</td>\n",
       "    </tr>\n",
       "    <tr>\n",
       "      <th>8542</th>\n",
       "      <td>1</td>\n",
       "      <td>Her fans walked out muttering words like `` ho...</td>\n",
       "      <td>[-0.0436810702085495, -0.007883345708251, -0.0...</td>\n",
       "    </tr>\n",
       "    <tr>\n",
       "      <th>8543</th>\n",
       "      <td>2</td>\n",
       "      <td>In this case zero .</td>\n",
       "      <td>[-0.054293192923069, -0.009543243795633316, -0...</td>\n",
       "    </tr>\n",
       "  </tbody>\n",
       "</table>\n",
       "<p>8544 rows × 3 columns</p>\n",
       "</div>"
      ],
      "text/plain": [
       "      label                                               text  \\\n",
       "0         4  The Rock is destined to be the 21st Century 's...   \n",
       "1         5  The gorgeously elaborate continuation of `` Th...   \n",
       "2         4  Singer/composer Bryan Adams contributes a slew...   \n",
       "3         3  You 'd think by now America would have had eno...   \n",
       "4         4               Yet the act is still charming here .   \n",
       "...     ...                                                ...   \n",
       "8539      1                                    A real snooze .   \n",
       "8540      2                                     No surprises .   \n",
       "8541      4  We 've seen the hippie-turned-yuppie plot befo...   \n",
       "8542      1  Her fans walked out muttering words like `` ho...   \n",
       "8543      2                                In this case zero .   \n",
       "\n",
       "                                                 vector  \n",
       "0     [-0.0078018708154559135, -0.003602320328354835...  \n",
       "1     [-0.03825657069683075, -0.031692925840616226, ...  \n",
       "2     [-0.011609816923737526, -0.006086165085434914,...  \n",
       "3     [-0.020963657647371292, -0.028181064873933792,...  \n",
       "4     [-0.045816730707883835, -0.03720678389072418, ...  \n",
       "...                                                 ...  \n",
       "8539  [0.024768028408288956, 0.01059210579842329, -0...  \n",
       "8540  [-0.021302705630660057, -0.0071574123576283455...  \n",
       "8541  [-0.018229257315397263, -0.009151657111942768,...  \n",
       "8542  [-0.0436810702085495, -0.007883345708251, -0.0...  \n",
       "8543  [-0.054293192923069, -0.009543243795633316, -0...  \n",
       "\n",
       "[8544 rows x 3 columns]"
      ]
     },
     "execution_count": 9,
     "metadata": {},
     "output_type": "execute_result"
    }
   ],
   "source": [
    "df_train"
   ]
  },
  {
   "cell_type": "code",
   "execution_count": 10,
   "metadata": {},
   "outputs": [
    {
     "name": "stderr",
     "output_type": "stream",
     "text": [
      "100%|██████████| 1101/1101 [00:26<00:00, 41.79it/s]\n"
     ]
    }
   ],
   "source": [
    "df_val['vector'] = df_val['text'].progress_apply(get_sentence_embedding)"
   ]
  },
  {
   "cell_type": "code",
   "execution_count": 11,
   "metadata": {},
   "outputs": [
    {
     "name": "stderr",
     "output_type": "stream",
     "text": [
      "100%|██████████| 2210/2210 [00:47<00:00, 46.09it/s]\n"
     ]
    }
   ],
   "source": [
    "df_test['vector'] = df_test['text'].progress_apply(get_sentence_embedding)"
   ]
  },
  {
   "cell_type": "code",
   "execution_count": 12,
   "metadata": {},
   "outputs": [],
   "source": [
    "df_train.to_parquet(\"SST-5_train_august11.parquet\")\n",
    "df_val.to_parquet(\"SST-5_validation_august11.parquet\")\n",
    "df_test.to_parquet(\"SST-5_test_august11.parquet\")"
   ]
  },
  {
   "cell_type": "code",
   "execution_count": null,
   "metadata": {},
   "outputs": [],
   "source": []
  }
 ],
 "metadata": {
  "kernelspec": {
   "display_name": "Python 3",
   "language": "python",
   "name": "python3"
  },
  "language_info": {
   "codemirror_mode": {
    "name": "ipython",
    "version": 3
   },
   "file_extension": ".py",
   "mimetype": "text/x-python",
   "name": "python",
   "nbconvert_exporter": "python",
   "pygments_lexer": "ipython3",
   "version": "3.12.1"
  }
 },
 "nbformat": 4,
 "nbformat_minor": 2
}
