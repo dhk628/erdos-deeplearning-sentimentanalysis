{
 "cells": [
  {
   "cell_type": "code",
   "id": "initial_id",
   "metadata": {
    "collapsed": true,
    "ExecuteTime": {
     "end_time": "2024-08-11T23:06:58.169274Z",
     "start_time": "2024-08-11T23:06:54.039526Z"
    }
   },
   "source": [
    "import numpy as np\n",
    "import pandas as pd\n",
    "import torch"
   ],
   "outputs": [],
   "execution_count": 1
  },
  {
   "metadata": {
    "ExecuteTime": {
     "end_time": "2024-08-12T00:41:08.957437Z",
     "start_time": "2024-08-12T00:41:08.752251Z"
    }
   },
   "cell_type": "code",
   "source": "df = pd.read_parquet('data/sst5/fine_tuned/0811/sst-5_train.parquet').rename(columns={'label': 'truth', 'vector': 'vectors'})",
   "id": "c7b45d8fba36b74",
   "outputs": [],
   "execution_count": 45
  },
  {
   "metadata": {
    "ExecuteTime": {
     "end_time": "2024-08-12T00:41:09.538279Z",
     "start_time": "2024-08-12T00:41:09.527269Z"
    }
   },
   "cell_type": "code",
   "source": "df.head()",
   "id": "4605aad045a76130",
   "outputs": [
    {
     "data": {
      "text/plain": [
       "   truth                                               text  \\\n",
       "0      4  The Rock is destined to be the 21st Century 's...   \n",
       "1      5  The gorgeously elaborate continuation of `` Th...   \n",
       "2      4  Singer/composer Bryan Adams contributes a slew...   \n",
       "3      3  You 'd think by now America would have had eno...   \n",
       "4      4               Yet the act is still charming here .   \n",
       "\n",
       "                                             vectors  \n",
       "0  [-0.0078018708154559135, -0.003602320328354835...  \n",
       "1  [-0.03825657069683075, -0.031692925840616226, ...  \n",
       "2  [-0.011609816923737526, -0.006086165085434914,...  \n",
       "3  [-0.020963657647371292, -0.028181064873933792,...  \n",
       "4  [-0.045816730707883835, -0.03720678389072418, ...  "
      ],
      "text/html": [
       "<div>\n",
       "<style scoped>\n",
       "    .dataframe tbody tr th:only-of-type {\n",
       "        vertical-align: middle;\n",
       "    }\n",
       "\n",
       "    .dataframe tbody tr th {\n",
       "        vertical-align: top;\n",
       "    }\n",
       "\n",
       "    .dataframe thead th {\n",
       "        text-align: right;\n",
       "    }\n",
       "</style>\n",
       "<table border=\"1\" class=\"dataframe\">\n",
       "  <thead>\n",
       "    <tr style=\"text-align: right;\">\n",
       "      <th></th>\n",
       "      <th>truth</th>\n",
       "      <th>text</th>\n",
       "      <th>vectors</th>\n",
       "    </tr>\n",
       "  </thead>\n",
       "  <tbody>\n",
       "    <tr>\n",
       "      <th>0</th>\n",
       "      <td>4</td>\n",
       "      <td>The Rock is destined to be the 21st Century 's...</td>\n",
       "      <td>[-0.0078018708154559135, -0.003602320328354835...</td>\n",
       "    </tr>\n",
       "    <tr>\n",
       "      <th>1</th>\n",
       "      <td>5</td>\n",
       "      <td>The gorgeously elaborate continuation of `` Th...</td>\n",
       "      <td>[-0.03825657069683075, -0.031692925840616226, ...</td>\n",
       "    </tr>\n",
       "    <tr>\n",
       "      <th>2</th>\n",
       "      <td>4</td>\n",
       "      <td>Singer/composer Bryan Adams contributes a slew...</td>\n",
       "      <td>[-0.011609816923737526, -0.006086165085434914,...</td>\n",
       "    </tr>\n",
       "    <tr>\n",
       "      <th>3</th>\n",
       "      <td>3</td>\n",
       "      <td>You 'd think by now America would have had eno...</td>\n",
       "      <td>[-0.020963657647371292, -0.028181064873933792,...</td>\n",
       "    </tr>\n",
       "    <tr>\n",
       "      <th>4</th>\n",
       "      <td>4</td>\n",
       "      <td>Yet the act is still charming here .</td>\n",
       "      <td>[-0.045816730707883835, -0.03720678389072418, ...</td>\n",
       "    </tr>\n",
       "  </tbody>\n",
       "</table>\n",
       "</div>"
      ]
     },
     "execution_count": 46,
     "metadata": {},
     "output_type": "execute_result"
    }
   ],
   "execution_count": 46
  },
  {
   "metadata": {
    "ExecuteTime": {
     "end_time": "2024-08-12T00:41:11.194423Z",
     "start_time": "2024-08-12T00:41:10.781268Z"
    }
   },
   "cell_type": "code",
   "source": "df.to_parquet('data/sst5/fine_tuned/0811/sst-5_train.parquet')",
   "id": "933f42cb822407f1",
   "outputs": [],
   "execution_count": 47
  },
  {
   "metadata": {
    "ExecuteTime": {
     "end_time": "2024-08-08T00:32:44.772789Z",
     "start_time": "2024-08-08T00:32:44.749769Z"
    }
   },
   "cell_type": "code",
   "source": [
    "df5 = df.loc[df['rating'] == 5]\n",
    "df5.head()"
   ],
   "id": "bd7ca51330460f8d",
   "outputs": [
    {
     "data": {
      "text/plain": [
       "    rating                                               text  \\\n",
       "1        5  The gorgeously elaborate continuation of `` Th...   \n",
       "5        5  Whether or not you 're enlightened by any of D...   \n",
       "6        5  Just the labour involved in creating the layer...   \n",
       "8        5  a screenplay more ingeniously constructed than...   \n",
       "10       5  Good fun , good action , good acting , good di...   \n",
       "\n",
       "                                               vector  \n",
       "1   [0.009347192011773586, -0.024268826469779015, ...  \n",
       "5   [-0.012160818092525005, -0.012833962216973305,...  \n",
       "6   [0.004631729330867529, -0.03409641981124878, -...  \n",
       "8   [0.04255269467830658, -0.03733774647116661, -0...  \n",
       "10  [0.016034267842769623, 0.011066507548093796, -...  "
      ],
      "text/html": [
       "<div>\n",
       "<style scoped>\n",
       "    .dataframe tbody tr th:only-of-type {\n",
       "        vertical-align: middle;\n",
       "    }\n",
       "\n",
       "    .dataframe tbody tr th {\n",
       "        vertical-align: top;\n",
       "    }\n",
       "\n",
       "    .dataframe thead th {\n",
       "        text-align: right;\n",
       "    }\n",
       "</style>\n",
       "<table border=\"1\" class=\"dataframe\">\n",
       "  <thead>\n",
       "    <tr style=\"text-align: right;\">\n",
       "      <th></th>\n",
       "      <th>rating</th>\n",
       "      <th>text</th>\n",
       "      <th>vector</th>\n",
       "    </tr>\n",
       "  </thead>\n",
       "  <tbody>\n",
       "    <tr>\n",
       "      <th>1</th>\n",
       "      <td>5</td>\n",
       "      <td>The gorgeously elaborate continuation of `` Th...</td>\n",
       "      <td>[0.009347192011773586, -0.024268826469779015, ...</td>\n",
       "    </tr>\n",
       "    <tr>\n",
       "      <th>5</th>\n",
       "      <td>5</td>\n",
       "      <td>Whether or not you 're enlightened by any of D...</td>\n",
       "      <td>[-0.012160818092525005, -0.012833962216973305,...</td>\n",
       "    </tr>\n",
       "    <tr>\n",
       "      <th>6</th>\n",
       "      <td>5</td>\n",
       "      <td>Just the labour involved in creating the layer...</td>\n",
       "      <td>[0.004631729330867529, -0.03409641981124878, -...</td>\n",
       "    </tr>\n",
       "    <tr>\n",
       "      <th>8</th>\n",
       "      <td>5</td>\n",
       "      <td>a screenplay more ingeniously constructed than...</td>\n",
       "      <td>[0.04255269467830658, -0.03733774647116661, -0...</td>\n",
       "    </tr>\n",
       "    <tr>\n",
       "      <th>10</th>\n",
       "      <td>5</td>\n",
       "      <td>Good fun , good action , good acting , good di...</td>\n",
       "      <td>[0.016034267842769623, 0.011066507548093796, -...</td>\n",
       "    </tr>\n",
       "  </tbody>\n",
       "</table>\n",
       "</div>"
      ]
     },
     "execution_count": 9,
     "metadata": {},
     "output_type": "execute_result"
    }
   ],
   "execution_count": 9
  },
  {
   "metadata": {},
   "cell_type": "code",
   "outputs": [],
   "execution_count": null,
   "source": "",
   "id": "2d55a2194dfeabd"
  }
 ],
 "metadata": {
  "kernelspec": {
   "display_name": "Python 3",
   "language": "python",
   "name": "python3"
  },
  "language_info": {
   "codemirror_mode": {
    "name": "ipython",
    "version": 2
   },
   "file_extension": ".py",
   "mimetype": "text/x-python",
   "name": "python",
   "nbconvert_exporter": "python",
   "pygments_lexer": "ipython2",
   "version": "2.7.6"
  }
 },
 "nbformat": 4,
 "nbformat_minor": 5
}
